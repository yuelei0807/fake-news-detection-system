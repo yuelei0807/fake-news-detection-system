{
 "cells": [
  {
   "cell_type": "code",
   "execution_count": 1,
   "metadata": {},
   "outputs": [],
   "source": [
    "# 1. Import libraries\n",
    "import pandas as pd\n",
    "import numpy as np\n",
    "import matplotlib.pyplot as plt\n",
    "import seaborn as sns\n",
    "import warnings\n",
    "warnings.filterwarnings('ignore')\n"
   ]
  },
  {
   "cell_type": "code",
   "execution_count": 2,
   "metadata": {},
   "outputs": [
    {
     "name": "stdout",
     "output_type": "stream",
     "text": [
      "Dataset shape after cleaning: (2035, 12)\n"
     ]
    }
   ],
   "source": [
    "dataframe = pd.read_csv(\"dataset_with_missing_values_duplicates_removed.csv\")\n",
    "print(f\"Dataset shape after cleaning: {dataframe.shape}\")"
   ]
  },
  {
   "cell_type": "code",
   "execution_count": 6,
   "metadata": {},
   "outputs": [
    {
     "data": {
      "text/html": [
       "<div>\n",
       "<style scoped>\n",
       "    .dataframe tbody tr th:only-of-type {\n",
       "        vertical-align: middle;\n",
       "    }\n",
       "\n",
       "    .dataframe tbody tr th {\n",
       "        vertical-align: top;\n",
       "    }\n",
       "\n",
       "    .dataframe thead th {\n",
       "        text-align: right;\n",
       "    }\n",
       "</style>\n",
       "<table border=\"1\" class=\"dataframe\">\n",
       "  <thead>\n",
       "    <tr style=\"text-align: right;\">\n",
       "      <th></th>\n",
       "      <th>author</th>\n",
       "      <th>published</th>\n",
       "      <th>title</th>\n",
       "      <th>text</th>\n",
       "      <th>language</th>\n",
       "      <th>site_url</th>\n",
       "      <th>main_img_url</th>\n",
       "      <th>type</th>\n",
       "      <th>label</th>\n",
       "      <th>title_without_stopwords</th>\n",
       "      <th>text_without_stopwords</th>\n",
       "      <th>hasImage</th>\n",
       "    </tr>\n",
       "  </thead>\n",
       "  <tbody>\n",
       "    <tr>\n",
       "      <th>0</th>\n",
       "      <td>Barracuda Brigade</td>\n",
       "      <td>2016-10-26T21:41:00.000+03:00</td>\n",
       "      <td>muslims busted they stole millions in govt ben...</td>\n",
       "      <td>print they should pay all the back all the mon...</td>\n",
       "      <td>english</td>\n",
       "      <td>100percentfedup.com</td>\n",
       "      <td>http://bb4sp.com/wp-content/uploads/2016/10/Fu...</td>\n",
       "      <td>bias</td>\n",
       "      <td>Real</td>\n",
       "      <td>muslims busted stole millions govt benefits</td>\n",
       "      <td>print pay back money plus interest entire fami...</td>\n",
       "      <td>1.0</td>\n",
       "    </tr>\n",
       "    <tr>\n",
       "      <th>1</th>\n",
       "      <td>reasoning with facts</td>\n",
       "      <td>2016-10-29T08:47:11.259+03:00</td>\n",
       "      <td>re why did attorney general loretta lynch plea...</td>\n",
       "      <td>why did attorney general loretta lynch plead t...</td>\n",
       "      <td>english</td>\n",
       "      <td>100percentfedup.com</td>\n",
       "      <td>http://bb4sp.com/wp-content/uploads/2016/10/Fu...</td>\n",
       "      <td>bias</td>\n",
       "      <td>Real</td>\n",
       "      <td>attorney general loretta lynch plead fifth</td>\n",
       "      <td>attorney general loretta lynch plead fifth bar...</td>\n",
       "      <td>1.0</td>\n",
       "    </tr>\n",
       "    <tr>\n",
       "      <th>2</th>\n",
       "      <td>Barracuda Brigade</td>\n",
       "      <td>2016-10-31T01:41:49.479+02:00</td>\n",
       "      <td>breaking weiner cooperating with fbi on hillar...</td>\n",
       "      <td>red state  \\nfox news sunday reported this mor...</td>\n",
       "      <td>english</td>\n",
       "      <td>100percentfedup.com</td>\n",
       "      <td>http://bb4sp.com/wp-content/uploads/2016/10/Fu...</td>\n",
       "      <td>bias</td>\n",
       "      <td>Real</td>\n",
       "      <td>breaking weiner cooperating fbi hillary email ...</td>\n",
       "      <td>red state fox news sunday reported morning ant...</td>\n",
       "      <td>1.0</td>\n",
       "    </tr>\n",
       "    <tr>\n",
       "      <th>3</th>\n",
       "      <td>Fed Up</td>\n",
       "      <td>2016-11-01T05:22:00.000+02:00</td>\n",
       "      <td>pin drop speech by father of daughter kidnappe...</td>\n",
       "      <td>email kayla mueller was a prisoner and torture...</td>\n",
       "      <td>english</td>\n",
       "      <td>100percentfedup.com</td>\n",
       "      <td>http://100percentfedup.com/wp-content/uploads/...</td>\n",
       "      <td>bias</td>\n",
       "      <td>Real</td>\n",
       "      <td>pin drop speech father daughter kidnapped kill...</td>\n",
       "      <td>email kayla mueller prisoner tortured isis cha...</td>\n",
       "      <td>1.0</td>\n",
       "    </tr>\n",
       "    <tr>\n",
       "      <th>4</th>\n",
       "      <td>Fed Up</td>\n",
       "      <td>2016-11-01T21:56:00.000+02:00</td>\n",
       "      <td>fantastic trumps  point plan to reform healthc...</td>\n",
       "      <td>email healthcare reform to make america great ...</td>\n",
       "      <td>english</td>\n",
       "      <td>100percentfedup.com</td>\n",
       "      <td>http://100percentfedup.com/wp-content/uploads/...</td>\n",
       "      <td>bias</td>\n",
       "      <td>Real</td>\n",
       "      <td>fantastic trumps point plan reform healthcare ...</td>\n",
       "      <td>email healthcare reform make america great sin...</td>\n",
       "      <td>1.0</td>\n",
       "    </tr>\n",
       "  </tbody>\n",
       "</table>\n",
       "</div>"
      ],
      "text/plain": [
       "                 author                      published  \\\n",
       "0     Barracuda Brigade  2016-10-26T21:41:00.000+03:00   \n",
       "1  reasoning with facts  2016-10-29T08:47:11.259+03:00   \n",
       "2     Barracuda Brigade  2016-10-31T01:41:49.479+02:00   \n",
       "3                Fed Up  2016-11-01T05:22:00.000+02:00   \n",
       "4                Fed Up  2016-11-01T21:56:00.000+02:00   \n",
       "\n",
       "                                               title  \\\n",
       "0  muslims busted they stole millions in govt ben...   \n",
       "1  re why did attorney general loretta lynch plea...   \n",
       "2  breaking weiner cooperating with fbi on hillar...   \n",
       "3  pin drop speech by father of daughter kidnappe...   \n",
       "4  fantastic trumps  point plan to reform healthc...   \n",
       "\n",
       "                                                text language  \\\n",
       "0  print they should pay all the back all the mon...  english   \n",
       "1  why did attorney general loretta lynch plead t...  english   \n",
       "2  red state  \\nfox news sunday reported this mor...  english   \n",
       "3  email kayla mueller was a prisoner and torture...  english   \n",
       "4  email healthcare reform to make america great ...  english   \n",
       "\n",
       "              site_url                                       main_img_url  \\\n",
       "0  100percentfedup.com  http://bb4sp.com/wp-content/uploads/2016/10/Fu...   \n",
       "1  100percentfedup.com  http://bb4sp.com/wp-content/uploads/2016/10/Fu...   \n",
       "2  100percentfedup.com  http://bb4sp.com/wp-content/uploads/2016/10/Fu...   \n",
       "3  100percentfedup.com  http://100percentfedup.com/wp-content/uploads/...   \n",
       "4  100percentfedup.com  http://100percentfedup.com/wp-content/uploads/...   \n",
       "\n",
       "   type label                            title_without_stopwords  \\\n",
       "0  bias  Real        muslims busted stole millions govt benefits   \n",
       "1  bias  Real         attorney general loretta lynch plead fifth   \n",
       "2  bias  Real  breaking weiner cooperating fbi hillary email ...   \n",
       "3  bias  Real  pin drop speech father daughter kidnapped kill...   \n",
       "4  bias  Real  fantastic trumps point plan reform healthcare ...   \n",
       "\n",
       "                              text_without_stopwords  hasImage  \n",
       "0  print pay back money plus interest entire fami...       1.0  \n",
       "1  attorney general loretta lynch plead fifth bar...       1.0  \n",
       "2  red state fox news sunday reported morning ant...       1.0  \n",
       "3  email kayla mueller prisoner tortured isis cha...       1.0  \n",
       "4  email healthcare reform make america great sin...       1.0  "
      ]
     },
     "execution_count": 6,
     "metadata": {},
     "output_type": "execute_result"
    }
   ],
   "source": [
    "dataframe.head()"
   ]
  },
  {
   "cell_type": "code",
   "execution_count": 3,
   "metadata": {},
   "outputs": [],
   "source": [
    "# calculate the counts of real and fake news from each news source\n",
    "fake_true_news_counts_for_each_news_source = dataframe.groupby([\"site_url\", \"label\"]).size().unstack(fill_value=0)"
   ]
  },
  {
   "cell_type": "code",
   "execution_count": 4,
   "metadata": {},
   "outputs": [],
   "source": [
    "# Caluclate the percentage of fake news and real news for each news source\n",
    "fake_true_news_counts_for_each_news_source[\"Real News Publication Percentage (%)\"] = (fake_true_news_counts_for_each_news_source[\"Real\"] / (fake_true_news_counts_for_each_news_source[\"Real\"] + fake_true_news_counts_for_each_news_source[\"Fake\"])) * 100\n",
    "fake_true_news_counts_for_each_news_source[\"Fake News Publication Percentage (%)\"] = (fake_true_news_counts_for_each_news_source[\"Fake\"] / (fake_true_news_counts_for_each_news_source[\"Real\"] + fake_true_news_counts_for_each_news_source[\"Fake\"])) * 100"
   ]
  },
  {
   "cell_type": "code",
   "execution_count": 5,
   "metadata": {},
   "outputs": [],
   "source": [
    "# Calculate total articles for each source for better analysis\n",
    "# This helps in assessing the statistical significance of the credibility score\n",
    "fake_true_news_counts_for_each_news_source[\"Total Articles\"] = fake_true_news_counts_for_each_news_source[\"Real\"] + fake_true_news_counts_for_each_news_source[\"Fake\"]"
   ]
  },
  {
   "cell_type": "code",
   "execution_count": 6,
   "metadata": {},
   "outputs": [],
   "source": [
    "# Sort by credibility (real news percentage)\n",
    "sorted_news_sources = fake_true_news_counts_for_each_news_source.sort_values(by=\"Real News Publication Percentage (%)\", ascending=False)"
   ]
  },
  {
   "cell_type": "code",
   "execution_count": 7,
   "metadata": {},
   "outputs": [
    {
     "data": {
      "text/html": [
       "<div>\n",
       "<style scoped>\n",
       "    .dataframe tbody tr th:only-of-type {\n",
       "        vertical-align: middle;\n",
       "    }\n",
       "\n",
       "    .dataframe tbody tr th {\n",
       "        vertical-align: top;\n",
       "    }\n",
       "\n",
       "    .dataframe thead th {\n",
       "        text-align: right;\n",
       "    }\n",
       "</style>\n",
       "<table border=\"1\" class=\"dataframe\">\n",
       "  <thead>\n",
       "    <tr style=\"text-align: right;\">\n",
       "      <th>label</th>\n",
       "      <th>Fake</th>\n",
       "      <th>Real</th>\n",
       "      <th>Real News Publication Percentage (%)</th>\n",
       "      <th>Fake News Publication Percentage (%)</th>\n",
       "      <th>Total Articles</th>\n",
       "    </tr>\n",
       "    <tr>\n",
       "      <th>site_url</th>\n",
       "      <th></th>\n",
       "      <th></th>\n",
       "      <th></th>\n",
       "      <th></th>\n",
       "      <th></th>\n",
       "    </tr>\n",
       "  </thead>\n",
       "  <tbody>\n",
       "    <tr>\n",
       "      <th>100percentfedup.com</th>\n",
       "      <td>0</td>\n",
       "      <td>33</td>\n",
       "      <td>100.0</td>\n",
       "      <td>0.0</td>\n",
       "      <td>33</td>\n",
       "    </tr>\n",
       "    <tr>\n",
       "      <th>dailywire.com</th>\n",
       "      <td>0</td>\n",
       "      <td>81</td>\n",
       "      <td>100.0</td>\n",
       "      <td>0.0</td>\n",
       "      <td>81</td>\n",
       "    </tr>\n",
       "    <tr>\n",
       "      <th>whydontyoutrythis.com</th>\n",
       "      <td>0</td>\n",
       "      <td>2</td>\n",
       "      <td>100.0</td>\n",
       "      <td>0.0</td>\n",
       "      <td>2</td>\n",
       "    </tr>\n",
       "    <tr>\n",
       "      <th>redstatewatcher.com</th>\n",
       "      <td>0</td>\n",
       "      <td>1</td>\n",
       "      <td>100.0</td>\n",
       "      <td>0.0</td>\n",
       "      <td>1</td>\n",
       "    </tr>\n",
       "    <tr>\n",
       "      <th>proudemocrat.com</th>\n",
       "      <td>0</td>\n",
       "      <td>1</td>\n",
       "      <td>100.0</td>\n",
       "      <td>0.0</td>\n",
       "      <td>1</td>\n",
       "    </tr>\n",
       "  </tbody>\n",
       "</table>\n",
       "</div>"
      ],
      "text/plain": [
       "label                  Fake  Real  Real News Publication Percentage (%)  \\\n",
       "site_url                                                                  \n",
       "100percentfedup.com       0    33                                 100.0   \n",
       "dailywire.com             0    81                                 100.0   \n",
       "whydontyoutrythis.com     0     2                                 100.0   \n",
       "redstatewatcher.com       0     1                                 100.0   \n",
       "proudemocrat.com          0     1                                 100.0   \n",
       "\n",
       "label                  Fake News Publication Percentage (%)  Total Articles  \n",
       "site_url                                                                     \n",
       "100percentfedup.com                                     0.0              33  \n",
       "dailywire.com                                           0.0              81  \n",
       "whydontyoutrythis.com                                   0.0               2  \n",
       "redstatewatcher.com                                     0.0               1  \n",
       "proudemocrat.com                                        0.0               1  "
      ]
     },
     "execution_count": 7,
     "metadata": {},
     "output_type": "execute_result"
    }
   ],
   "source": [
    "sorted_news_sources.head()"
   ]
  },
  {
   "cell_type": "code",
   "execution_count": 8,
   "metadata": {},
   "outputs": [
    {
     "name": "stdout",
     "output_type": "stream",
     "text": [
      "Top 10 Most Credible News Sources:\n",
      "News Source: 100percentfedup.com, Real News Publication Percentage: 100.0%\n",
      "News Source: dailywire.com, Real News Publication Percentage: 100.0%\n",
      "News Source: whydontyoutrythis.com, Real News Publication Percentage: 100.0%\n",
      "News Source: redstatewatcher.com, Real News Publication Percentage: 100.0%\n",
      "News Source: proudemocrat.com, Real News Publication Percentage: 100.0%\n",
      "News Source: presstv.com, Real News Publication Percentage: 100.0%\n",
      "News Source: politicususa.com, Real News Publication Percentage: 100.0%\n",
      "News Source: wnd.com, Real News Publication Percentage: 100.0%\n",
      "News Source: addictinginfo.org, Real News Publication Percentage: 100.0%\n",
      "News Source: returnofkings.com, Real News Publication Percentage: 99.0%\n",
      "Top 10 Least Credible News Sources:\n",
      "News Source: defenddemocracy.press, Real News Publication Percentage: 0.0%\n",
      "News Source: dennismichaellynch.com, Real News Publication Percentage: 0.0%\n",
      "News Source: departed.co, Real News Publication Percentage: 0.0%\n",
      "News Source: der-postillon.com, Real News Publication Percentage: 0.0%\n",
      "News Source: galacticconnection.com, Real News Publication Percentage: 0.0%\n",
      "News Source: 21stcenturywire.com, Real News Publication Percentage: 0.0%\n",
      "News Source: infowars.com, Real News Publication Percentage: 0.0%\n",
      "News Source: intrepidreport.com, Real News Publication Percentage: 0.0%\n",
      "News Source: legorafi.fr, Real News Publication Percentage: 0.0%\n",
      "News Source: globalresearch.ca, Real News Publication Percentage: 0.0%\n"
     ]
    }
   ],
   "source": [
    "print(\"Top 10 Most Credible News Sources:\")\n",
    "for news_source, row in sorted_news_sources.head(10).iterrows():\n",
    "    print(f\"News Source: {news_source}, Real News Publication Percentage: {row['Real News Publication Percentage (%)']:.1f}%\")\n",
    "\n",
    "\n",
    "print(\"Top 10 Least Credible News Sources:\")\n",
    "for news_source, row in sorted_news_sources.tail(10).iterrows():\n",
    "    print(f\"News Source: {news_source}, Real News Publication Percentage: {row['Real News Publication Percentage (%)']:.1f}%\")"
   ]
  },
  {
   "cell_type": "code",
   "execution_count": 9,
   "metadata": {},
   "outputs": [
    {
     "name": "stdout",
     "output_type": "stream",
     "text": [
      "\n",
      "Top news sources by enhanced news source credibility score:\n",
      "1. politicususa.com - Enhanced News Source Credibility Score: 100.0, Base Real News Publication Percentage Credibility: 100.0%, Total Number of Articles Publication: 100\n",
      "2. presstv.ir - Enhanced News Source Credibility Score: 99.2, Base Real News Publication Percentage Credibility: 99.0%, Total Number of Articles Publication: 100\n",
      "3. frontpagemag.com - Enhanced News Source Credibility Score: 99.2, Base Real News Publication Percentage Credibility: 99.0%, Total Number of Articles Publication: 100\n",
      "4. returnofkings.com - Enhanced News Source Credibility Score: 99.2, Base Real News Publication Percentage Credibility: 99.0%, Total Number of Articles Publication: 100\n",
      "5. dailywire.com - Enhanced News Source Credibility Score: 99.1, Base Real News Publication Percentage Credibility: 100.0%, Total Number of Articles Publication: 81\n",
      "6. westernjournalism.com - Enhanced News Source Credibility Score: 98.4, Base Real News Publication Percentage Credibility: 98.0%, Total Number of Articles Publication: 100\n",
      "7. wnd.com - Enhanced News Source Credibility Score: 97.1, Base Real News Publication Percentage Credibility: 100.0%, Total Number of Articles Publication: 51\n",
      "8. 100percentfedup.com - Enhanced News Source Credibility Score: 95.3, Base Real News Publication Percentage Credibility: 100.0%, Total Number of Articles Publication: 33\n",
      "9. davidduke.com - Enhanced News Source Credibility Score: 94.8, Base Real News Publication Percentage Credibility: 97.8%, Total Number of Articles Publication: 45\n",
      "10. presstv.com - Enhanced News Source Credibility Score: 93.4, Base Real News Publication Percentage Credibility: 100.0%, Total Number of Articles Publication: 21\n",
      "11. addictinginfo.org - Enhanced News Source Credibility Score: 93.2, Base Real News Publication Percentage Credibility: 100.0%, Total Number of Articles Publication: 20\n",
      "12. whydontyoutrythis.com - Enhanced News Source Credibility Score: 84.8, Base Real News Publication Percentage Credibility: 100.0%, Total Number of Articles Publication: 2\n",
      "13. proudemocrat.com - Enhanced News Source Credibility Score: 83.0, Base Real News Publication Percentage Credibility: 100.0%, Total Number of Articles Publication: 1\n",
      "14. redstatewatcher.com - Enhanced News Source Credibility Score: 83.0, Base Real News Publication Percentage Credibility: 100.0%, Total Number of Articles Publication: 1\n",
      "15. washingtonsblog.com - Enhanced News Source Credibility Score: 59.3, Base Real News Publication Percentage Credibility: 66.7%, Total Number of Articles Publication: 3\n"
     ]
    }
   ],
   "source": [
    "# Create enhanced credibility score with volume weighting\n",
    "# This implementation incorporats explicit source credibility scores and\n",
    "# aggregating multiple credibility signals into a composite score\n",
    "credibility_factors = sorted_news_sources.reset_index()[['site_url', 'Real News Publication Percentage (%)', 'Total Articles']]\n",
    "\n",
    "# Add weight based on volume (more articles = more confident in the score)\n",
    "# Log scale to prevent domination by very high volume news sources\n",
    "# This approach creates a confidence factor based on the quantity of data available\n",
    "# Similar to how organizations like NewsGuard and MBFC consider the accumulation\n",
    "# of evidence when determining source credibility\n",
    "# np.log1p(...) is the natural logarithm of (1 + x). It's used instead of np.log() to avoid log(0) and to handle small values better.\n",
    "# log1p(x)=log(1+x)\n",
    "# 'np.log1p(credibility_factors['Total Articles'].max())' finds the maximum article count among all news sources and applies the same log transform\n",
    "credibility_factors['volume_weight'] = np.log1p(credibility_factors['Total Articles']) / np.log1p(credibility_factors['Total Articles'].max())\n",
    "\n",
    "# Calculate final composite score (weighted average)\n",
    "# 80% based on real news publication percentage, 20% based on volume confidence\n",
    "# This implements the concept of aggregating credibility signals \n",
    "# by combining factuality measures with confidence measures into a single score\n",
    "credibility_factors['source_credibility_score'] = (\n",
    "   0.8 * credibility_factors['Real News Publication Percentage (%)'] +  # Base credibility is most important\n",
    "   0.2 * (credibility_factors['volume_weight'] * 100)                   # Volume confidence (scaled to percentage)\n",
    ")\n",
    "\n",
    "# Sort by composite score\n",
    "final_credibility = credibility_factors.sort_values('source_credibility_score', ascending=False)\n",
    "\n",
    "print(\"\\nTop news sources by enhanced news source credibility score:\")\n",
    "for i, (_, row) in enumerate(final_credibility.head(15).iterrows()):\n",
    "   print(f\"{i+1}. {row['site_url']} - Enhanced News Source Credibility Score: {row['source_credibility_score']:.1f}, \" +\n",
    "         f\"Base Real News Publication Percentage Credibility: {row['Real News Publication Percentage (%)']:.1f}%, \" +\n",
    "         f\"Total Number of Articles Publication: {row['Total Articles']}\")\n",
    "\n",
    "\n"
   ]
  },
  {
   "cell_type": "code",
   "execution_count": 12,
   "metadata": {},
   "outputs": [
    {
     "data": {
      "image/png": "[encoded data removed]",
      "text/plain": [
       "<Figure size 1000x600 with 1 Axes>"
      ]
     },
     "metadata": {},
     "output_type": "display_data"
    },
    {
     "data": {
      "image/png": "[encoded data removed]",
      "text/plain": [
       "<Figure size 1200x800 with 1 Axes>"
      ]
     },
     "metadata": {},
     "output_type": "display_data"
    }
   ],
   "source": [
    "# Visualizations for better understanding\n",
    "# Plot distribution of basic news source credibility scores\n",
    "plt.figure(figsize=(10, 6))\n",
    "sns.histplot(sorted_news_sources[\"Real News Publication Percentage (%)\"], bins=20)\n",
    "plt.title(\"Distribution of Basic News Source Credibility Scores\")\n",
    "plt.xlabel(\"Real News Publication Percentage (%)\")\n",
    "plt.ylabel(\"Count of News Sources\")\n",
    "plt.show()\n",
    "\n",
    "# Plot enhanced composite credibility scores\n",
    "plt.figure(figsize=(12, 8))\n",
    "plt.bar(final_credibility['site_url'].head(20), final_credibility['source_credibility_score'].head(20))\n",
    "plt.title(\"Top 20 News Sources by Enhanced Composite News Source Credibility Score\")\n",
    "plt.xlabel(\"News Source\")\n",
    "plt.ylabel(\"Enhanced News Source Credibility Score\")\n",
    "plt.xticks(rotation=90)\n",
    "plt.tight_layout()\n",
    "plt.show()"
   ]
  },
  {
   "cell_type": "code",
   "execution_count": 13,
   "metadata": {},
   "outputs": [
    {
     "name": "stdout",
     "output_type": "stream",
     "text": [
      "\n",
      "--- Author-based Credibility Analysis ---\n",
      "Total unique authors: 485\n",
      "Top 10 authors by articles publication count:\n",
      "author\n",
      "No Author                              505\n",
      "Activist Post                           82\n",
      "EdJenner                                73\n",
      "noreply@blogger.com (Der Postillon)     72\n",
      "Daniel Greenfield                       55\n",
      "Anonymous                               48\n",
      "admin                                   48\n",
      "Jason Easley                            45\n",
      "Alex Ansary                             44\n",
      "Dr. Patrick Slattery                    38\n",
      "Name: count, dtype: int64\n"
     ]
    }
   ],
   "source": [
    "# Author-based credibility analysis\n",
    "# This approach extends the source credibility analysis to authors,\n",
    "# treating each author as a potential signal for content reliability\n",
    "print(\"\\n--- Author-based Credibility Analysis ---\")\n",
    "\n",
    "# Get author distribution\n",
    "author_counts = dataframe[\"author\"].value_counts()\n",
    "print(f\"Total unique authors: {len(author_counts)}\")\n",
    "print(f\"Top 10 authors by articles publication count:\")\n",
    "print(author_counts.head(10))"
   ]
  },
  {
   "cell_type": "code",
   "execution_count": 18,
   "metadata": {},
   "outputs": [
    {
     "name": "stdout",
     "output_type": "stream",
     "text": [
      "Column names in author_credibility before merge:\n",
      "['author', 'Real News Publication Percentage (%)']\n"
     ]
    }
   ],
   "source": [
    "# Calculate credibility scores for authors with multiple articles\n",
    "# Similar to the source credibility approach, creating a historical accuracy profile for each author \n",
    "# (x == \"Real\") creates a Boolean Series, with True where the article is labeled \"Real\" and False otherwise.\n",
    "# .mean() treats True as 1 and False as 0, so this gives the fraction of \"Real\" articles.\n",
    "# * 100 converts the fraction to a percentage.\n",
    "author_credibility = dataframe.groupby(\"author\")[\"label\"].apply(\n",
    "   lambda x: (x == \"Real\").mean() * 100\n",
    ").reset_index()\n",
    "author_credibility.columns = [\"author\", \"Real News Publication Percentage (%)\"]\n",
    "\n",
    "\n",
    "# For debugging, print column names\n",
    "print(\"Column names in author_credibility before merge:\")\n",
    "print(author_credibility.columns.tolist())\n"
   ]
  },
  {
   "cell_type": "code",
   "execution_count": 19,
   "metadata": {},
   "outputs": [
    {
     "name": "stdout",
     "output_type": "stream",
     "text": [
      "Column names in author_count_df:\n",
      "['author', 'Articles_Count']\n"
     ]
    }
   ],
   "source": [
    "# Prepare author_counts for merging\n",
    "author_count_df = author_counts.reset_index()\n",
    "author_count_df.columns = [\"author\", \"Articles_Count\"]  # Use underscore instead of space to be safe\n",
    "\n",
    "print(\"Column names in author_count_df:\")\n",
    "print(author_count_df.columns.tolist())"
   ]
  },
  {
   "cell_type": "code",
   "execution_count": 20,
   "metadata": {},
   "outputs": [
    {
     "name": "stdout",
     "output_type": "stream",
     "text": [
      "Column names in author_credibility after merge:\n",
      "['author', 'Real News Publication Percentage (%)', 'Articles_Count']\n"
     ]
    }
   ],
   "source": [
    "# Add article count\n",
    "author_credibility = author_credibility.merge(\n",
    "   author_count_df,\n",
    "   on=\"author\"\n",
    ")\n",
    "\n",
    "# After merge, verify column names\n",
    "print(\"Column names in author_credibility after merge:\")\n",
    "print(author_credibility.columns.tolist())"
   ]
  },
  {
   "cell_type": "code",
   "execution_count": 21,
   "metadata": {},
   "outputs": [
    {
     "name": "stdout",
     "output_type": "stream",
     "text": [
      "\n",
      "Top authors by enhanced author credibility score:\n",
      "                   author  Real News Publication Percentage (%)  \\\n",
      "120              EdJenner                            100.000000   \n",
      "186          Jason Easley                            100.000000   \n",
      "1             -NO AUTHOR-                            100.000000   \n",
      "85      Daniel Greenfield                             96.363636   \n",
      "357           Sarah Jones                            100.000000   \n",
      "159  Hrafnkell Haraldsson                            100.000000   \n",
      "349       Roosh Valizadeh                            100.000000   \n",
      "130                Fed Up                            100.000000   \n",
      "362        Sean Colarossi                            100.000000   \n",
      "117  Dr. Patrick Slattery                             94.736842   \n",
      "\n",
      "     Articles_Count  volume_weight  enhanced_author_credibility_score  \n",
      "120              73       0.691245                          93.824909  \n",
      "186              45       0.614891                          92.297820  \n",
      "1                22       0.503570                          90.071391  \n",
      "85               55       0.646483                          90.020574  \n",
      "357              16       0.455022                          89.100447  \n",
      "159              15       0.445286                          88.905717  \n",
      "349              15       0.445286                          88.905717  \n",
      "130              12       0.411938                          88.238767  \n",
      "362              11       0.399083                          87.981666  \n",
      "117              38       0.588379                          87.557048  \n"
     ]
    }
   ],
   "source": [
    "# Add volume weight using the same approach as sources\n",
    "author_credibility['volume_weight'] = np.log1p(author_credibility['Articles_Count']) / np.log1p(author_credibility['Articles_Count'].max())\n",
    "\n",
    "# Calculate composite score for authors\n",
    "# Applying the same weighted aggregation of signals as with news sources,\n",
    "# aligning with Section V.D's framework for combining credibility signals\n",
    "author_credibility['enhanced_author_credibility_score'] = (\n",
    "   0.8 * author_credibility['Real News Publication Percentage (%)'] +\n",
    "   0.2 * (author_credibility['volume_weight'] * 100)\n",
    ")\n",
    "\n",
    "# Sort by author credibility score\n",
    "author_credibility = author_credibility.sort_values(\"enhanced_author_credibility_score\", ascending=False)\n",
    "\n",
    "print(\"\\nTop authors by enhanced author credibility score:\")\n",
    "print(author_credibility.head(10))"
   ]
  },
  {
   "cell_type": "code",
   "execution_count": 22,
   "metadata": {},
   "outputs": [
    {
     "name": "stdout",
     "output_type": "stream",
     "text": [
      "\n",
      "Dataframe with added enhanced news source and author credibility scores:\n",
      "                 author             site_url label  \\\n",
      "0     Barracuda Brigade  100percentfedup.com  Real   \n",
      "1  reasoning with facts  100percentfedup.com  Real   \n",
      "2     Barracuda Brigade  100percentfedup.com  Real   \n",
      "3                Fed Up  100percentfedup.com  Real   \n",
      "4                Fed Up  100percentfedup.com  Real   \n",
      "\n",
      "   enhanced_source_credibility_score  enhanced_author_credibility_score  \n",
      "0                           95.28177                          85.755236  \n",
      "1                           95.28177                          82.226429  \n",
      "2                           95.28177                          85.755236  \n",
      "3                           95.28177                          88.238767  \n",
      "4                           95.28177                          88.238767  \n"
     ]
    }
   ],
   "source": [
    "# Add source credibility score to the original dataframe\n",
    "# Create a mapping dictionary from site_url to source_credibility_score\n",
    "source_credibility_mapping = final_credibility[['site_url', 'source_credibility_score']].set_index('site_url').to_dict()['source_credibility_score']\n",
    "\n",
    "# Add the credibility score to each article in the original dataframe\n",
    "dataframe['enhanced_source_credibility_score'] = dataframe['site_url'].map(source_credibility_mapping)\n",
    "\n",
    "# Create a mapping dictionary from author to author_credibility_score\n",
    "author_credibility_mapping = author_credibility[['author', 'enhanced_author_credibility_score']].set_index('author').to_dict()['enhanced_author_credibility_score']\n",
    "\n",
    "# Add the author credibility score to each article in the original dataframe\n",
    "dataframe['enhanced_author_credibility_score'] = dataframe['author'].map(author_credibility_mapping)\n",
    "\n",
    "# Display the updated dataframe with enhanced source and author credibility scores\n",
    "print(\"\\nDataframe with added enhanced news source and author credibility scores:\")\n",
    "print(dataframe[['author', 'site_url', 'label', 'enhanced_source_credibility_score', 'enhanced_author_credibility_score']].head())\n",
    "\n",
    "# Save the updated dataframe with the new credibility score attributes\n",
    "dataframe.to_csv('cleaned_dataset_with_enhanced_news_source_and_author_credibility_scores.csv', index=False)"
   ]
  },
  {
   "cell_type": "code",
   "execution_count": null,
   "metadata": {},
   "outputs": [
    {
     "name": "stdout",
     "output_type": "stream",
     "text": [
      "\n",
      "Top authors by enhanced author credibility score:\n",
      "                   author  Real News Publication Percentage (%)  \\\n",
      "120              EdJenner                            100.000000   \n",
      "186          Jason Easley                            100.000000   \n",
      "1             -NO AUTHOR-                            100.000000   \n",
      "85      Daniel Greenfield                             96.363636   \n",
      "357           Sarah Jones                            100.000000   \n",
      "159  Hrafnkell Haraldsson                            100.000000   \n",
      "349       Roosh Valizadeh                            100.000000   \n",
      "130                Fed Up                            100.000000   \n",
      "362        Sean Colarossi                            100.000000   \n",
      "117  Dr. Patrick Slattery                             94.736842   \n",
      "\n",
      "     Articles_Count  volume_weight  enhanced_author_credibility_score  \n",
      "120              73       0.691245                          93.824909  \n",
      "186              45       0.614891                          92.297820  \n",
      "1                22       0.503570                          90.071391  \n",
      "85               55       0.646483                          90.020574  \n",
      "357              16       0.455022                          89.100447  \n",
      "159              15       0.445286                          88.905717  \n",
      "349              15       0.445286                          88.905717  \n",
      "130              12       0.411938                          88.238767  \n",
      "362              11       0.399083                          87.981666  \n",
      "117              38       0.588379                          87.557048  \n"
     ]
    }
   ],
   "source": [
    "# Add volume weight using the same approach as sources\n",
    "author_credibility['volume_weight'] = np.log1p(author_credibility['Articles_Count']) / np.log1p(author_credibility['Articles_Count'].max())\n",
    "\n",
    "# Calculate composite score for authors\n",
    "# Applying the same weighted aggregation of signals as with news sources,\n",
    "# aligning with Section V.D's framework for combining credibility signals\n",
    "author_credibility['enhanced_author_credibility_score'] = (\n",
    "   0.8 * author_credibility['Real News Publication Percentage (%)'] +\n",
    "   0.2 * (author_credibility['volume_weight'] * 100)\n",
    ")\n",
    "\n",
    "# Sort by author credibility score\n",
    "author_credibility = author_credibility.sort_values(\"enhanced_author_credibility_score\", ascending=False)\n",
    "\n",
    "print(\"\\nTop authors by enhanced author credibility score:\")\n",
    "print(author_credibility.head(10))"
   ]
  }
 ],
 "metadata": {
  "kernelspec": {
   "display_name": "textmining",
   "language": "python",
   "name": "python3"
  },
  "language_info": {
   "codemirror_mode": {
    "name": "ipython",
    "version": 3
   },
   "file_extension": ".py",
   "mimetype": "text/x-python",
   "name": "python",
   "nbconvert_exporter": "python",
   "pygments_lexer": "ipython3",
   "version": "3.12.9"
  }
 },
 "nbformat": 4,
 "nbformat_minor": 2
}
