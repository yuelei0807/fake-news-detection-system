{
 "cells": [
  {
   "cell_type": "code",
   "execution_count": null,
   "metadata": {},
   "outputs": [],
   "source": [
    "# Import necessary libraries\n",
    "import pandas as pd\n",
    "import numpy as np\n",
    "import matplotlib.pyplot as plt\n",
    "import seaborn as sns\n",
    "from sklearn.feature_extraction.text import TfidfVectorizer\n",
    "from sklearn.ensemble import RandomForestClassifier\n",
    "from sklearn.linear_model import LogisticRegression\n",
    "from sklearn.pipeline import Pipeline\n",
    "from sklearn.model_selection import cross_val_score, cross_validate, StratifiedKFold\n",
    "from sklearn.metrics import classification_report, confusion_matrix, accuracy_score, precision_recall_fscore_support\n",
    "import warnings\n",
    "warnings.filterwarnings('ignore')\n",
    "\n",
    "# Set random seed for reproducibility\n",
    "np.random.seed(42)\n",
    "\n",
    "# Load the balanced training dataset\n",
    "print(\"Loading balanced training dataset...\")\n",
    "balanced_train = pd.read_csv(\"balanced_train_dataset_with_text.csv\")\n",
    "\n",
    "# Load validation and test datasets\n",
    "print(\"Loading validation and test datasets...\")\n",
    "val_dataset = pd.read_csv(\"val_dataset_with_text.csv\")\n",
    "test_dataset = pd.read_csv(\"test_dataset_with_text.csv\")\n",
    "\n",
    "# Display basic information about the datasets\n",
    "print(\"\\nDataset shapes:\")\n",
    "print(f\"Balanced training: {balanced_train.shape}\")\n",
    "print(f\"Validation: {val_dataset.shape}\")\n",
    "print(f\"Test: {test_dataset.shape}\")\n",
    "\n",
    "# Check class distribution in each dataset\n",
    "print(\"\\nClass distribution:\")\n",
    "print(\"Training:\")\n",
    "print(balanced_train['label'].value_counts())\n",
    "print(\"\\nValidation:\")\n",
    "print(val_dataset['label'].value_counts())\n",
    "print(\"\\nTest:\")\n",
    "print(test_dataset['label'].value_counts())\n",
    "\n",
    "# Check language distribution in the training set\n",
    "print(\"\\nLanguage distribution in training set:\")\n",
    "print(balanced_train['language'].value_counts())\n",
    "\n",
    "# Display some sample rows\n",
    "print(\"\\nSample rows from balanced training dataset:\")\n",
    "print(balanced_train[['label', 'title', 'text', 'language']].head(3))"
   ]
  }
 ],
 "metadata": {
  "language_info": {
   "name": "python"
  }
 },
 "nbformat": 4,
 "nbformat_minor": 2
}
